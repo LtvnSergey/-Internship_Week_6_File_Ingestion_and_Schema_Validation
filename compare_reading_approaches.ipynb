{
 "cells": [
  {
   "cell_type": "markdown",
   "metadata": {},
   "source": [
    "# Project: File Ingestion ans Schema Validation"
   ]
  },
  {
   "cell_type": "markdown",
   "metadata": {
    "toc": true
   },
   "source": [
    "<h1>Table of Contents<span class=\"tocSkip\"></span></h1>\n",
    "<div class=\"toc\"><ul class=\"toc-item\"><li><span><a href=\"#Task\" data-toc-modified-id=\"Task-1\">Task</a></span></li><li><span><a href=\"#Import-modules\" data-toc-modified-id=\"Import-modules-2\">Import modules</a></span></li><li><span><a href=\"#Read-YAML-config-file\" data-toc-modified-id=\"Read-YAML-config-file-3\">Read YAML config file</a></span></li><li><span><a href=\"#Compare-different-approaches-of-reading-file\" data-toc-modified-id=\"Compare-different-approaches-of-reading-file-4\">Compare different approaches of reading file</a></span><ul class=\"toc-item\"><li><ul class=\"toc-item\"><li><span><a href=\"#Pandas\" data-toc-modified-id=\"Pandas-4.0.1\">Pandas</a></span></li><li><span><a href=\"#Dask\" data-toc-modified-id=\"Dask-4.0.2\">Dask</a></span></li><li><span><a href=\"#Ray\" data-toc-modified-id=\"Ray-4.0.3\">Ray</a></span></li><li><span><a href=\"#Modin\" data-toc-modified-id=\"Modin-4.0.4\">Modin</a></span></li></ul></li><li><span><a href=\"#Compare-results\" data-toc-modified-id=\"Compare-results-4.1\">Compare results</a></span></li><li><span><a href=\"#Conclusion\" data-toc-modified-id=\"Conclusion-4.2\">Conclusion</a></span></li></ul></li></ul></div>"
   ]
  },
  {
   "cell_type": "markdown",
   "metadata": {},
   "source": [
    "## Task "
   ]
  },
  {
   "cell_type": "markdown",
   "metadata": {},
   "source": [
    "* Compare different approaches of reading large csv file"
   ]
  },
  {
   "cell_type": "markdown",
   "metadata": {},
   "source": [
    "## Import modules"
   ]
  },
  {
   "cell_type": "code",
   "execution_count": 44,
   "metadata": {
    "ExecuteTime": {
     "end_time": "2023-04-09T10:09:02.117907Z",
     "start_time": "2023-04-09T10:09:02.110727Z"
    }
   },
   "outputs": [],
   "source": [
    "from time import time\n",
    "import utility\n",
    "import warnings\n",
    "import dask.dataframe as dd\n",
    "import pandas as pd\n",
    "import ray\n",
    "import modin.pandas as mpd\n",
    "import os\n",
    "import matplotlib.pyplot as plt\n",
    "\n",
    "warnings.filterwarnings(\"ignore\")"
   ]
  },
  {
   "cell_type": "markdown",
   "metadata": {},
   "source": [
    "## Read YAML config file"
   ]
  },
  {
   "cell_type": "code",
   "execution_count": 2,
   "metadata": {
    "ExecuteTime": {
     "end_time": "2023-04-09T09:43:06.925068Z",
     "start_time": "2023-04-09T09:43:06.918997Z"
    }
   },
   "outputs": [],
   "source": [
    "config = utility.read_config_file('file.yaml')"
   ]
  },
  {
   "cell_type": "code",
   "execution_count": 3,
   "metadata": {
    "ExecuteTime": {
     "end_time": "2023-04-09T09:43:06.935880Z",
     "start_time": "2023-04-09T09:43:06.927764Z"
    }
   },
   "outputs": [
    {
     "data": {
      "text/plain": [
       "{'file_type': 'csv',\n",
       " 'dataset_name': 'commerce',\n",
       " 'file_name': 'commerce',\n",
       " 'table_name': 'commercesurv',\n",
       " 'inbound_delimiter': ',',\n",
       " 'outbound_delimiter': '|',\n",
       " 'skip_leading_rows': 1,\n",
       " 'columns': ['event_time',\n",
       "  'event_type',\n",
       "  'product_id',\n",
       "  'category_id',\n",
       "  'category_code',\n",
       "  'brand',\n",
       "  'price',\n",
       "  'user_id',\n",
       "  'user_session']}"
      ]
     },
     "execution_count": 3,
     "metadata": {},
     "output_type": "execute_result"
    }
   ],
   "source": [
    "config"
   ]
  },
  {
   "cell_type": "markdown",
   "metadata": {},
   "source": [
    "## Compare different approaches of reading file "
   ]
  },
  {
   "cell_type": "code",
   "execution_count": 4,
   "metadata": {
    "ExecuteTime": {
     "end_time": "2023-04-09T09:43:06.942983Z",
     "start_time": "2023-04-09T09:43:06.939513Z"
    }
   },
   "outputs": [],
   "source": [
    "file_name = config['file_name']\n",
    "file_type = config['file_type']\n",
    "file = file_name + f'.{file_type}'\n",
    "\n",
    "delimiter = config['inbound_delimiter']"
   ]
  },
  {
   "cell_type": "markdown",
   "metadata": {},
   "source": [
    "#### Pandas"
   ]
  },
  {
   "cell_type": "code",
   "execution_count": 5,
   "metadata": {
    "ExecuteTime": {
     "end_time": "2023-04-09T09:43:53.413885Z",
     "start_time": "2023-04-09T09:43:06.945238Z"
    }
   },
   "outputs": [],
   "source": [
    "start = time()\n",
    "pd.read_csv(file, delimiter=delimiter)\n",
    "end = time()\n",
    "\n",
    "pandas_time = end - start"
   ]
  },
  {
   "cell_type": "markdown",
   "metadata": {},
   "source": [
    "#### Dask"
   ]
  },
  {
   "cell_type": "code",
   "execution_count": 6,
   "metadata": {
    "ExecuteTime": {
     "end_time": "2023-04-09T09:43:53.439940Z",
     "start_time": "2023-04-09T09:43:53.420669Z"
    }
   },
   "outputs": [],
   "source": [
    "start = time()\n",
    "dd.read_csv(file, delimiter=delimiter)\n",
    "end = time()\n",
    "\n",
    "dask_time = end - start"
   ]
  },
  {
   "cell_type": "markdown",
   "metadata": {},
   "source": [
    "#### Ray"
   ]
  },
  {
   "cell_type": "code",
   "execution_count": 7,
   "metadata": {
    "ExecuteTime": {
     "end_time": "2023-04-09T09:43:58.116110Z",
     "start_time": "2023-04-09T09:43:53.441271Z"
    }
   },
   "outputs": [
    {
     "name": "stderr",
     "output_type": "stream",
     "text": [
      "2023-04-09 12:43:56,256\tINFO worker.py:1544 -- Started a local Ray instance. View the dashboard at \u001b[1m\u001b[32mhttp://127.0.0.1:8265 \u001b[39m\u001b[22m\n",
      "2023-04-09 12:43:58,096\tWARNING read_api.py:319 -- ⚠️  The blocks of this dataset are estimated to be 10.0x larger than the target block size of 512 MiB. This may lead to out-of-memory errors during processing. Consider reducing the size of input files or using `.repartition(n)` to increase the number of dataset blocks.\n"
     ]
    }
   ],
   "source": [
    "start = time()\n",
    "ray.data.read_csv(file, delimiter=delimiter)\n",
    "end = time()\n",
    "\n",
    "ray_time = end - start"
   ]
  },
  {
   "cell_type": "markdown",
   "metadata": {
    "ExecuteTime": {
     "end_time": "2023-04-08T15:13:04.320202Z",
     "start_time": "2023-04-08T15:13:04.302653Z"
    }
   },
   "source": [
    "#### Modin"
   ]
  },
  {
   "cell_type": "markdown",
   "metadata": {},
   "source": [
    "- Modin on `Ray`"
   ]
  },
  {
   "cell_type": "code",
   "execution_count": 8,
   "metadata": {
    "ExecuteTime": {
     "end_time": "2023-04-09T09:43:58.122581Z",
     "start_time": "2023-04-09T09:43:58.118698Z"
    },
    "scrolled": true
   },
   "outputs": [],
   "source": [
    "os.environ[\"MODIN_ENGINE\"] = \"ray\" "
   ]
  },
  {
   "cell_type": "code",
   "execution_count": 9,
   "metadata": {
    "ExecuteTime": {
     "end_time": "2023-04-09T09:44:30.271739Z",
     "start_time": "2023-04-09T09:43:58.125345Z"
    }
   },
   "outputs": [
    {
     "name": "stderr",
     "output_type": "stream",
     "text": [
      "2023-04-09 12:44:20,763\tWARNING worker.py:1866 -- A worker died or was killed while executing a task by an unexpected system error. To troubleshoot the problem, check the logs for the dead worker. RayTask ID: d3e9093e562ecc172aaaee097d9f6624b6ca128501000000 Worker ID: 0f7ed7de003bfdccb9442f2356f000874b277ee23af59e4b57cc8087 Node ID: cdb4f018d4108a322401067e104a5a2510eb8c1008280254d32d9988 Worker IP address: 172.20.10.8 Worker port: 41003 Worker PID: 6227 Worker exit type: SYSTEM_ERROR Worker exit detail: Worker unexpectedly exits with a connection error code 2. End of file. There are some potential root causes. (1) The process is killed by SIGKILL by OOM killer due to high memory usage. (2) ray stop --force is called. (3) The worker is crashed unexpectedly due to SIGSEGV or other unexpected errors.\n"
     ]
    }
   ],
   "source": [
    "start = time()\n",
    "mpd.read_csv(file, delimiter=delimiter)\n",
    "end = time()\n",
    "\n",
    "mpd_on_ray_time = end - start"
   ]
  },
  {
   "cell_type": "markdown",
   "metadata": {},
   "source": [
    "- Modin on `Dask`"
   ]
  },
  {
   "cell_type": "code",
   "execution_count": 10,
   "metadata": {
    "ExecuteTime": {
     "end_time": "2023-04-09T09:44:30.278709Z",
     "start_time": "2023-04-09T09:44:30.276264Z"
    }
   },
   "outputs": [],
   "source": [
    "os.environ[\"MODIN_ENGINE\"] = \"dask\" "
   ]
  },
  {
   "cell_type": "code",
   "execution_count": 11,
   "metadata": {
    "ExecuteTime": {
     "end_time": "2023-04-09T09:45:10.805283Z",
     "start_time": "2023-04-09T09:44:30.280231Z"
    }
   },
   "outputs": [
    {
     "name": "stderr",
     "output_type": "stream",
     "text": [
      "2023-04-09 12:44:54,751\tWARNING worker.py:1866 -- A worker died or was killed while executing a task by an unexpected system error. To troubleshoot the problem, check the logs for the dead worker. RayTask ID: 1856a5a3b3c8b5e55000f0db7883fce6763a6e2a01000000 Worker ID: 9bc34265a9ebb5faf17ebf81b9f58e70a1b13218658e7d352dabd22a Node ID: cdb4f018d4108a322401067e104a5a2510eb8c1008280254d32d9988 Worker IP address: 172.20.10.8 Worker port: 40115 Worker PID: 6936 Worker exit type: SYSTEM_ERROR Worker exit detail: The leased worker has unrecoverable failure. Worker is requested to be destroyed when it is returned.\n",
      "\u001b[2m\u001b[33m(raylet)\u001b[0m [2023-04-09 12:45:00,341 E 6133 6133] (raylet) node_manager.cc:3040: 7 Workers (tasks / actors) killed due to memory pressure (OOM), 0 Workers crashed due to other reasons at node (ID: cdb4f018d4108a322401067e104a5a2510eb8c1008280254d32d9988, IP: 172.20.10.8) over the last time period. To see more information about the Workers killed on this node, use `ray logs raylet.out -ip 172.20.10.8`\n",
      "\u001b[2m\u001b[33m(raylet)\u001b[0m \n",
      "\u001b[2m\u001b[33m(raylet)\u001b[0m Refer to the documentation on how to address the out of memory issue: https://docs.ray.io/en/latest/ray-core/scheduling/ray-oom-prevention.html. Consider provisioning more memory on this node or reducing task parallelism by requesting more CPUs per task. To adjust the kill threshold, set the environment variable `RAY_memory_usage_threshold` when starting Ray. To disable worker killing, set the environment variable `RAY_memory_monitor_refresh_ms` to zero.\n",
      "2023-04-09 12:45:00,464\tWARNING worker.py:1866 -- A worker died or was killed while executing a task by an unexpected system error. To troubleshoot the problem, check the logs for the dead worker. RayTask ID: 238e84a204330ccac7c2425c4d4dba91646db27d01000000 Worker ID: 164c10323af4f152ef77ef804ddf5d9a30933f201d620f3816ef2dcd Node ID: cdb4f018d4108a322401067e104a5a2510eb8c1008280254d32d9988 Worker IP address: 172.20.10.8 Worker port: 44377 Worker PID: 6937 Worker exit type: SYSTEM_ERROR Worker exit detail: Worker unexpectedly exits with a connection error code 2. End of file. There are some potential root causes. (1) The process is killed by SIGKILL by OOM killer due to high memory usage. (2) ray stop --force is called. (3) The worker is crashed unexpectedly due to SIGSEGV or other unexpected errors.\n"
     ]
    }
   ],
   "source": [
    "start = time()\n",
    "mpd.read_csv(file, delimiter=delimiter)\n",
    "end = time()\n",
    "\n",
    "mpd_on_dask_time = end - start"
   ]
  },
  {
   "cell_type": "markdown",
   "metadata": {},
   "source": [
    "- Modin on `Unidist`"
   ]
  },
  {
   "cell_type": "code",
   "execution_count": 12,
   "metadata": {
    "ExecuteTime": {
     "end_time": "2023-04-09T09:45:10.809811Z",
     "start_time": "2023-04-09T09:45:10.807189Z"
    }
   },
   "outputs": [],
   "source": [
    "os.environ[\"MODIN_ENGINE\"] = \"unidist\""
   ]
  },
  {
   "cell_type": "code",
   "execution_count": 13,
   "metadata": {
    "ExecuteTime": {
     "end_time": "2023-04-09T09:45:44.178982Z",
     "start_time": "2023-04-09T09:45:10.811719Z"
    }
   },
   "outputs": [
    {
     "name": "stderr",
     "output_type": "stream",
     "text": [
      "2023-04-09 12:45:30,623\tWARNING worker.py:1866 -- A worker died or was killed while executing a task by an unexpected system error. To troubleshoot the problem, check the logs for the dead worker. RayTask ID: 4e87d5e805a620057db8c106f8727be84114af3701000000 Worker ID: 17d965a37344f1a73a7de4150352f0b6f63d3ea2794dd993d55b9a65 Node ID: cdb4f018d4108a322401067e104a5a2510eb8c1008280254d32d9988 Worker IP address: 172.20.10.8 Worker port: 33583 Worker PID: 7584 Worker exit type: SYSTEM_ERROR Worker exit detail: Worker unexpectedly exits with a connection error code 2. End of file. There are some potential root causes. (1) The process is killed by SIGKILL by OOM killer due to high memory usage. (2) ray stop --force is called. (3) The worker is crashed unexpectedly due to SIGSEGV or other unexpected errors.\n",
      "2023-04-09 12:45:34,717\tWARNING worker.py:1866 -- A worker died or was killed while executing a task by an unexpected system error. To troubleshoot the problem, check the logs for the dead worker. RayTask ID: 9d0aa7371214a3bcfaf8377fc18078e42f342f5901000000 Worker ID: da9f8f798d42b8e4842e5c2a79b8f62d98f6c1d54261098dd845df94 Node ID: cdb4f018d4108a322401067e104a5a2510eb8c1008280254d32d9988 Worker IP address: 172.20.10.8 Worker port: 34473 Worker PID: 7580 Worker exit type: SYSTEM_ERROR Worker exit detail: Worker unexpectedly exits with a connection error code 2. End of file. There are some potential root causes. (1) The process is killed by SIGKILL by OOM killer due to high memory usage. (2) ray stop --force is called. (3) The worker is crashed unexpectedly due to SIGSEGV or other unexpected errors.\n"
     ]
    }
   ],
   "source": [
    "start = time()\n",
    "mpd.read_csv(file, delimiter=delimiter)\n",
    "end = time()\n",
    "\n",
    "mpd_on_unidist_time = end - start"
   ]
  },
  {
   "cell_type": "markdown",
   "metadata": {
    "heading_collapsed": true
   },
   "source": [
    "### Compare results"
   ]
  },
  {
   "cell_type": "code",
   "execution_count": 21,
   "metadata": {
    "ExecuteTime": {
     "end_time": "2023-04-09T09:51:18.327030Z",
     "start_time": "2023-04-09T09:51:18.308323Z"
    },
    "hidden": true
   },
   "outputs": [
    {
     "data": {
      "text/html": [
       "<div>\n",
       "<style scoped>\n",
       "    .dataframe tbody tr th:only-of-type {\n",
       "        vertical-align: middle;\n",
       "    }\n",
       "\n",
       "    .dataframe tbody tr th {\n",
       "        vertical-align: top;\n",
       "    }\n",
       "\n",
       "    .dataframe thead th {\n",
       "        text-align: right;\n",
       "    }\n",
       "</style>\n",
       "<table border=\"1\" class=\"dataframe\">\n",
       "  <thead>\n",
       "    <tr style=\"text-align: right;\">\n",
       "      <th></th>\n",
       "      <th>Framework</th>\n",
       "      <th>Time, sec</th>\n",
       "    </tr>\n",
       "  </thead>\n",
       "  <tbody>\n",
       "    <tr>\n",
       "      <th>1</th>\n",
       "      <td>Dask</td>\n",
       "      <td>0.016</td>\n",
       "    </tr>\n",
       "    <tr>\n",
       "      <th>2</th>\n",
       "      <td>Ray</td>\n",
       "      <td>4.672</td>\n",
       "    </tr>\n",
       "    <tr>\n",
       "      <th>4</th>\n",
       "      <td>Modin on Ray</td>\n",
       "      <td>32.143</td>\n",
       "    </tr>\n",
       "    <tr>\n",
       "      <th>5</th>\n",
       "      <td>Modin on Unidist</td>\n",
       "      <td>33.359</td>\n",
       "    </tr>\n",
       "    <tr>\n",
       "      <th>3</th>\n",
       "      <td>Modin on Dask</td>\n",
       "      <td>40.519</td>\n",
       "    </tr>\n",
       "    <tr>\n",
       "      <th>0</th>\n",
       "      <td>Pandas</td>\n",
       "      <td>46.462</td>\n",
       "    </tr>\n",
       "  </tbody>\n",
       "</table>\n",
       "</div>"
      ],
      "text/plain": [
       "          Framework  Time, sec\n",
       "1              Dask      0.016\n",
       "2               Ray      4.672\n",
       "4      Modin on Ray     32.143\n",
       "5  Modin on Unidist     33.359\n",
       "3     Modin on Dask     40.519\n",
       "0            Pandas     46.462"
      ]
     },
     "execution_count": 21,
     "metadata": {},
     "output_type": "execute_result"
    }
   ],
   "source": [
    "data = {'Framework':['Pandas', \n",
    "                     'Dask', \n",
    "                     'Ray', \n",
    "                     'Modin on Dask', \n",
    "                     'Modin on Ray', \n",
    "                     'Modin on Unidist'],\n",
    "        'Time, sec':[pandas_time, \n",
    "                     dask_time, \n",
    "                     ray_time, \n",
    "                     mpd_on_dask_time, \n",
    "                     mpd_on_ray_time, \n",
    "                     mpd_on_unidist_time]\n",
    "       }\n",
    "\n",
    "results_df = pd.DataFrame.from_dict(data).sort_values(by='Time, sec').round(3)\n",
    "results_df"
   ]
  },
  {
   "cell_type": "code",
   "execution_count": 30,
   "metadata": {
    "ExecuteTime": {
     "end_time": "2023-04-09T09:55:40.449306Z",
     "start_time": "2023-04-09T09:55:40.275951Z"
    },
    "hidden": true
   },
   "outputs": [
    {
     "data": {
      "image/png": "[encoded data removed]",
      "text/plain": [
       "<Figure size 640x480 with 1 Axes>"
      ]
     },
     "metadata": {},
     "output_type": "display_data"
    },
    {
     "data": {
      "text/html": [
       "<div>\n",
       "<style scoped>\n",
       "    .dataframe tbody tr th:only-of-type {\n",
       "        vertical-align: middle;\n",
       "    }\n",
       "\n",
       "    .dataframe tbody tr th {\n",
       "        vertical-align: top;\n",
       "    }\n",
       "\n",
       "    .dataframe thead th {\n",
       "        text-align: right;\n",
       "    }\n",
       "</style>\n",
       "<table border=\"1\" class=\"dataframe\">\n",
       "  <thead>\n",
       "    <tr style=\"text-align: right;\">\n",
       "      <th></th>\n",
       "      <th>Framework</th>\n",
       "      <th>Time, sec</th>\n",
       "    </tr>\n",
       "  </thead>\n",
       "  <tbody>\n",
       "    <tr>\n",
       "      <th>1</th>\n",
       "      <td>Dask</td>\n",
       "      <td>0.016</td>\n",
       "    </tr>\n",
       "    <tr>\n",
       "      <th>2</th>\n",
       "      <td>Ray</td>\n",
       "      <td>4.672</td>\n",
       "    </tr>\n",
       "    <tr>\n",
       "      <th>4</th>\n",
       "      <td>Modin on Ray</td>\n",
       "      <td>32.143</td>\n",
       "    </tr>\n",
       "    <tr>\n",
       "      <th>5</th>\n",
       "      <td>Modin on Unidist</td>\n",
       "      <td>33.359</td>\n",
       "    </tr>\n",
       "    <tr>\n",
       "      <th>3</th>\n",
       "      <td>Modin on Dask</td>\n",
       "      <td>40.519</td>\n",
       "    </tr>\n",
       "    <tr>\n",
       "      <th>0</th>\n",
       "      <td>Pandas</td>\n",
       "      <td>46.462</td>\n",
       "    </tr>\n",
       "  </tbody>\n",
       "</table>\n",
       "</div>"
      ],
      "text/plain": [
       "          Framework  Time, sec\n",
       "1              Dask      0.016\n",
       "2               Ray      4.672\n",
       "4      Modin on Ray     32.143\n",
       "5  Modin on Unidist     33.359\n",
       "3     Modin on Dask     40.519\n",
       "0            Pandas     46.462"
      ]
     },
     "metadata": {},
     "output_type": "display_data"
    }
   ],
   "source": [
    "results_df.plot(x='Framework', \n",
    "                y='Time, sec', \n",
    "                kind='bar',\n",
    "                title='Amount of time needed for reading 5.7 Gb csv file'\n",
    "               )\n",
    "plt.show()\n",
    "display(results_df)"
   ]
  },
  {
   "cell_type": "markdown",
   "metadata": {},
   "source": [
    "### Conclusion"
   ]
  },
  {
   "cell_type": "markdown",
   "metadata": {},
   "source": [
    "- From the results above we can see that `Dask` framework is by far quicker than others in terms of reading ~6 Gb csv file"
   ]
  }
 ],
 "metadata": {
  "hide_input": false,
  "kernelspec": {
   "display_name": "Python 3 (ipykernel)",
   "language": "python",
   "name": "python3"
  },
  "language_info": {
   "codemirror_mode": {
    "name": "ipython",
    "version": 3
   },
   "file_extension": ".py",
   "mimetype": "text/x-python",
   "name": "python",
   "nbconvert_exporter": "python",
   "pygments_lexer": "ipython3",
   "version": "3.10.6"
  },
  "toc": {
   "base_numbering": "1",
   "nav_menu": {},
   "number_sections": false,
   "sideBar": true,
   "skip_h1_title": true,
   "title_cell": "Table of Contents",
   "title_sidebar": "Contents",
   "toc_cell": true,
   "toc_position": {
    "height": "calc(100% - 180px)",
    "left": "10px",
    "top": "150px",
    "width": "184.594px"
   },
   "toc_section_display": true,
   "toc_window_display": true
  },
  "varInspector": {
   "cols": {
    "lenName": 16,
    "lenType": 16,
    "lenVar": 40
   },
   "kernels_config": {
    "python": {
     "delete_cmd_postfix": "",
     "delete_cmd_prefix": "del ",
     "library": "var_list.py",
     "varRefreshCmd": "print(var_dic_list())"
    },
    "r": {
     "delete_cmd_postfix": ") ",
     "delete_cmd_prefix": "rm(",
     "library": "var_list.r",
     "varRefreshCmd": "cat(var_dic_list()) "
    }
   },
   "types_to_exclude": [
    "module",
    "function",
    "builtin_function_or_method",
    "instance",
    "_Feature"
   ],
   "window_display": false
  }
 },
 "nbformat": 4,
 "nbformat_minor": 2
}
